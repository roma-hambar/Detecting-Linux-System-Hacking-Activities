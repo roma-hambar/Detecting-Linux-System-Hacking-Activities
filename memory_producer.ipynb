{
 "cells": [
  {
   "cell_type": "markdown",
   "metadata": {},
   "source": [
    "# FIT5202 - Data processing for Big Data\n",
    "\n",
    "## Assignment 2: Detecting Linux system hacking activities Part B\n",
    "\n",
    "Name: Roma Hambar\\\n",
    "Student ID: 31223958\\\n",
    "Python Version Used: Python 3"
   ]
  },
  {
   "cell_type": "markdown",
   "metadata": {},
   "source": [
    "<h1>Memory Producer Modelling </h1>\n",
    "\n",
    "Apache Kafka is an open-source event streaming data platform that is used to publish and subscribe to a stream of data. \n",
    "Apache Kafka producer is an application that is used to publish data into the Kafka cluster. \n",
    "\n",
    "Below is the code to build a Kafka producer to stream memory activity records to the Linux machine under attack Machine learning prediction model.\n",
    "\n",
    "* [Initialize Apache Kafka producer](#Initialize)\n",
    "* [Read process activity data from csv datafile](#Read)\n",
    "* [Reformat data columns and timestamp](#Reformat)\n",
    "* [Send data records to Kafka Topic](#Publish)\n",
    "* [Setup Kafka Producer and read data](#Setup)\n",
    "* [Initialize Streaming data to Kafka Topic](#streaming)"
   ]
  },
  {
   "cell_type": "code",
   "execution_count": 1,
   "metadata": {},
   "outputs": [],
   "source": [
    "# import statements\n",
    "from time import sleep\n",
    "from json import dumps\n",
    "from kafka import KafkaProducer\n",
    "import random\n",
    "from datetime import datetime as dt\n",
    "import csv"
   ]
  },
  {
   "cell_type": "code",
   "execution_count": 2,
   "metadata": {},
   "outputs": [],
   "source": [
    "# Kakfa topic name for memory data records\n",
    "topic='memory'\n",
    "# CSV file with Linux memory activity data\n",
    "filename = 'Streaming_Linux_memory.csv'"
   ]
  },
  {
   "cell_type": "markdown",
   "metadata": {},
   "source": [
    "## Initialize Apache Kakfa producer <a class=\"anchor\" name=\"Initialize\"></a>"
   ]
  },
  {
   "cell_type": "code",
   "execution_count": 3,
   "metadata": {},
   "outputs": [],
   "source": [
    "# Using KafkaProducer(), initialise kakfa producer instance and set the kafka topic configuration in local mode\n",
    "def connect_kafka_producer():\n",
    "    _producer = None\n",
    "    try:\n",
    "        _producer = KafkaProducer(bootstrap_servers=['localhost:9092'],\n",
    "                                  value_serializer=lambda x: dumps(x).encode('ascii'),\n",
    "                                  api_version=(0, 10))\n",
    "    except Exception as ex:\n",
    "        print('Exception while connecting Kafka.')\n",
    "        print(str(ex))\n",
    "    finally:\n",
    "        return _producer"
   ]
  },
  {
   "cell_type": "markdown",
   "metadata": {},
   "source": [
    "## Read process activity data from csv datafile <a class=\"anchor\" name=\"Read\"></a>"
   ]
  },
  {
   "cell_type": "code",
   "execution_count": 4,
   "metadata": {},
   "outputs": [],
   "source": [
    "def read_csv(fileName):\n",
    "    data = []\n",
    "    machine_4 = []\n",
    "    machine_5 = []\n",
    "    machine_6 = []\n",
    "    machine_7 = []\n",
    "    machine_8 = []\n",
    "\n",
    "    # read csv file\n",
    "    input_file = csv.DictReader(open(fileName))\n",
    "    for row in input_file:\n",
    "        # for each machine, store data records in separate lists\n",
    "        if int(row['machine']) == 4:\n",
    "            machine_4.append(row)\n",
    "        elif int(row['machine']) == 5:\n",
    "            machine_5.append(row)\n",
    "        elif int(row['machine']) == 6:\n",
    "            machine_6.append(row)\n",
    "        elif int(row['machine']) == 7:\n",
    "            machine_7.append(row)\n",
    "        else:\n",
    "            machine_8.append(row)\n",
    "        \n",
    "    data.append(machine_4)\n",
    "    data.append(machine_5)\n",
    "    data.append(machine_6)\n",
    "    data.append(machine_7)\n",
    "    data.append(machine_8)\n",
    "    \n",
    "    return data"
   ]
  },
  {
   "cell_type": "markdown",
   "metadata": {},
   "source": [
    "## Reformat data columns and timestamp <a class=\"anchor\" name=\"Reformat\"></a>"
   ]
  },
  {
   "cell_type": "code",
   "execution_count": 5,
   "metadata": {},
   "outputs": [],
   "source": [
    "# Change the datatype of each column and current timestamp in each data record\n",
    "def add_timestamp(data_rows,ts):\n",
    "    # for each machine, a new sublist will be used\n",
    "    data = []\n",
    "\n",
    "    for row in data_rows:\n",
    "        row['ts'] = ts\n",
    "        row['sequence'] = int(row['sequence'])\n",
    "        row['machine'] = int(row['machine'])     \n",
    "        row['PID'] = int(row['PID'])\n",
    "        row['MINFLT'] = int(row['MINFLT'])\n",
    "        row['MAJFLT'] = int(row['MAJFLT'])\n",
    "        row['VSTEXT'] = int(row['VSTEXT'])\n",
    "        row['VSIZE'] = float(row['VSIZE'])\n",
    "        row['RSIZE'] = float(row['RSIZE'])\n",
    "        row['VGROW'] = float(row['VGROW'])\n",
    "        row['RGROW'] = float(row['RGROW'])\n",
    "        row['MEM'] = float(row['MEM'])\n",
    "        row['CMD'] = str(row['CMD'])\n",
    "        # append dictionary records with each key in the data records to a list\n",
    "        data.append({k: row[k] for k in row.keys()})\n",
    "\n",
    "    return data"
   ]
  },
  {
   "cell_type": "markdown",
   "metadata": {},
   "source": [
    "## Send data records to Kafka Topic <a class=\"anchor\" name=\"Publish\"></a>"
   ]
  },
  {
   "cell_type": "code",
   "execution_count": 6,
   "metadata": {},
   "outputs": [],
   "source": [
    "# Publish data to kafka topic using producer instance \n",
    "def publish_message(producer_instance, topic_name, data):\n",
    "    try:\n",
    "        producer_instance.send(topic_name, data)\n",
    "        # print('Message published successfully. Data: ' + str(data))\n",
    "    except Exception as ex:\n",
    "        print('Exception in publishing message.')\n",
    "        print(str(ex))"
   ]
  },
  {
   "cell_type": "markdown",
   "metadata": {},
   "source": [
    "## Setup Kafka Producer and read data  <a class=\"anchor\" name=\"Start\"></a>"
   ]
  },
  {
   "cell_type": "code",
   "execution_count": 7,
   "metadata": {},
   "outputs": [],
   "source": [
    "# Initialize kafka producer\n",
    "producer = connect_kafka_producer()\n",
    "# Read memory activity data from csv file\n",
    "csv_data = read_csv(filename)"
   ]
  },
  {
   "cell_type": "markdown",
   "metadata": {},
   "source": [
    "## Initialize Streaming data to Kafka Topic   <a class=\"anchor\" name=\"streaming\"></a>\n",
    "\n",
    "The topic data has been stored in the following format:\\\n",
    "\n",
    "    for first cycle :\n",
    "    [\n",
    "    [{sequence:1, machine:4,..},{sequence:2, machine:4,..},..],\n",
    "    [{sequence:1, machine:5,..},{sequence:2, machine:5,..},..],\n",
    "    [{sequence:1, machine:6,..},{sequence:2, machine:6,..},..],\n",
    "    [{sequence:1, machine:7,..},{sequence:2, machine:7,..},..],\n",
    "    [{sequence:1, machine:8,..},{sequence:2, machine:8,..},..]\n",
    "    ]\n",
    "    \n",
    "    From second cycle onwards (if y-records are not 0, the list will not be generated for that machine): \n",
    "    [\n",
    "    x_records[{sequence:1, machine:4,..},{sequence:2, machine:4,..},..],\n",
    "    y_records[{sequence:1, machine:4,..},{sequence:2, machine:4,..},..],\n",
    "    x_records[{sequence:1, machine:5,..},{sequence:2, machine:5,..},..],\n",
    "    y_records[{sequence:1, machine:5,..},{sequence:2, machine:5,..},..],\n",
    "    x_records[{sequence:1, machine:6,..},{sequence:2, machine:6,..},..],\n",
    "    y_records[{sequence:1, machine:6,..},{sequence:2, machine:6,..},..],\n",
    "    x_records[{sequence:1, machine:7,..},{sequence:2, machine:7,..},..],\n",
    "    y_records[{sequence:1, machine:7,..},{sequence:2, machine:7,..},..],\n",
    "    x_records[{sequence:1, machine:8,..},{sequence:2, machine:8,..},..],\n",
    "    y_records[{sequence:1, machine:8,..},{sequence:2, machine:8,..},..]\n",
    "    ]"
   ]
  },
  {
   "cell_type": "code",
   "execution_count": 8,
   "metadata": {},
   "outputs": [],
   "source": [
    "# List of flags per machine to verify whether y records need to be send\n",
    "y_cycle = [False]*5\n",
    "\n",
    "# list of list of y records to be sent in next cycle\n",
    "y_cycle_data = [0]*5"
   ]
  },
  {
   "cell_type": "code",
   "execution_count": null,
   "metadata": {},
   "outputs": [],
   "source": [
    "# generate stream of data for indefinite time\n",
    "while True:\n",
    "    publish_data = []\n",
    "    # UTC timstamp in string format (13 digit unix epoch time in seconds)\n",
    "    ts = dt.utcnow().strftime(\"%s\")\n",
    "    # print('Publishing records..')\n",
    "    # for 5 machines\n",
    "    for i in range(5):\n",
    "        # generate random count for x and y records for each machine for second cycle onwards\n",
    "        x = random.randint(20,80)\n",
    "        y = random.randint(0,5)\n",
    "            \n",
    "        # generate x records and append the same selected records to the end of the original data list\n",
    "        data_rows_x = csv_data[i][:x]\n",
    "        del csv_data[i][:x]\n",
    "        csv_data[i] += data_rows_x\n",
    "        \n",
    "        # Append the x-cycle records to be published to publish_data list\n",
    "        publish_data.append(add_timestamp(data_rows_x,ts))\n",
    "        \n",
    "        # y_cycle  for each machine will be set to True after the first cycle, else it will be False by default\n",
    "        if y_cycle[i] == True:\n",
    "            # This sublist for each machine will be empty for first cycle and be used to store y records from \n",
    "            # the previous cycle to be published in the next cycle\n",
    "            if y_cycle_data[i] != []:\n",
    "                publish_data.append(add_timestamp(y_cycle_data[i],ts))\n",
    "        \n",
    "        # Generate y records from this cycle to publish in the next cycle and append the selected records at the\n",
    "        # end of the machine data lsit for exhaustive dataset\n",
    "        data_rows_y = csv_data[i][:y]\n",
    "        y_cycle_data[i] = csv_data[i][:y]\n",
    "        del csv_data[i][:y]\n",
    "        csv_data[i] += data_rows_y\n",
    "        \n",
    "        y_cycle[i] = True\n",
    "    # Publish records for all machines in two cycles x, y to kakfa producer\n",
    "    publish_message(producer, topic, publish_data)\n",
    "    # Generate a new cycle for 10 seconds\n",
    "    sleep(10)"
   ]
  }
 ],
 "metadata": {
  "kernelspec": {
   "display_name": "Python 3",
   "language": "python",
   "name": "python3"
  },
  "language_info": {
   "codemirror_mode": {
    "name": "ipython",
    "version": 3
   },
   "file_extension": ".py",
   "mimetype": "text/x-python",
   "name": "python",
   "nbconvert_exporter": "python",
   "pygments_lexer": "ipython3",
   "version": "3.8.2"
  }
 },
 "nbformat": 4,
 "nbformat_minor": 4
}
